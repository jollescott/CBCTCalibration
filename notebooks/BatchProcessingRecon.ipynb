{
 "cells": [
  {
   "cell_type": "markdown",
   "metadata": {},
   "source": [
    "# Batch CT reconstruction using MuhRec"
   ]
  },
  {
   "cell_type": "markdown",
   "metadata": {},
   "source": [
    "## Define location of software and data"
   ]
  },
  {
   "cell_type": "code",
   "execution_count": null,
   "metadata": {
    "collapsed": true
   },
   "outputs": [],
   "source": [
    "projpath=\"/Volumes/DataDisk/P20140142\"\n",
    "destpath=projpath+\"/04_evaluation/20141126\"\n",
    "muhrec=\"/Users/kaestner/Applications/muhrec3.app/Contents/MacOS/muhrec3\"\n",
    "cfgpath=projpath+\"/04_evaluation/20141126/recon_roots.xml\""
   ]
  },
  {
   "cell_type": "markdown",
   "metadata": {},
   "source": [
    "## Import some libraries"
   ]
  },
  {
   "cell_type": "code",
   "execution_count": 3,
   "metadata": {
    "collapsed": true
   },
   "outputs": [],
   "source": [
    "from subprocess import call\n",
    "from math import fmod"
   ]
  },
  {
   "cell_type": "markdown",
   "metadata": {},
   "source": [
    "## Define number of frames and projections"
   ]
  },
  {
   "cell_type": "code",
   "execution_count": 4,
   "metadata": {
    "collapsed": true
   },
   "outputs": [],
   "source": [
    "firstproj=1;\n",
    "firstframe=0\n",
    "lastframe=3"
   ]
  },
  {
   "cell_type": "markdown",
   "metadata": {},
   "source": [
    "## Start the batch processing loop"
   ]
  },
  {
   "cell_type": "code",
   "execution_count": null,
   "metadata": {
    "collapsed": true
   },
   "outputs": [],
   "source": [
    "for i in range(firstframe,lastframe) :\n",
    "    # select projection sub set\n",
    "    firstindex=\"projections:firstindex=\"+str(firstproj+i*180)\n",
    "    lastindex=\"projections:lastindex=\"+str(firstproj+(i+1)*180)\n",
    "    \n",
    "    # set file mask for the slices\n",
    "    matrixname=\"matrix:matrixname=frame_\"+(\"%04d\" % i)+\"-slice_####.tif\"\n",
    "\n",
    "    # adjust the reconstruction angles to alternating between 0-180 and 180-360\n",
    "    angle=fmod(i,2)*180\n",
    "    scanarc=\"projections:scanarc=\"+str(angle)+\" \"+str(angle+180)\n",
    "    \n",
    "    # call the reconstruction\n",
    "    call([muhrec, \"-f\", cfgpath, firstindex, lastindex, matrixname, scanarc])"
   ]
  }
 ],
 "metadata": {
  "kernelspec": {
   "display_name": "Python 3",
   "language": "python",
   "name": "python3"
  },
  "language_info": {
   "codemirror_mode": {
    "name": "ipython",
    "version": 3
   },
   "file_extension": ".py",
   "mimetype": "text/x-python",
   "name": "python",
   "nbconvert_exporter": "python",
   "pygments_lexer": "ipython3",
   "version": "3.5.2"
  }
 },
 "nbformat": 4,
 "nbformat_minor": 2
}
